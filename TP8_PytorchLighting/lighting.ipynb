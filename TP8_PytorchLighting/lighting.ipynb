{
 "cells": [
  {
   "cell_type": "markdown",
   "metadata": {},
   "source": [
    "# Introduction\n",
    "\n",
    "Dans ce TP on va explorer le monde du MLOps. Vous savez créer de modèles, les entrainer, utiliser des architectures avancées et plein de choses encore. \n",
    "Mais, pour pouvoir gérer au mieux vos modèles de Deep Learning, ainsi que vos différentes expériences, il faut avoir une organisation solide. \n",
    "\n",
    "Nous allons voir deux outils qui vont vous permettre de faire passer vos projets à la prochaine étape."
   ]
  },
  {
   "cell_type": "markdown",
   "metadata": {},
   "source": [
    "# Stockage des paramètres avec wandb"
   ]
  },
  {
   "cell_type": "markdown",
   "metadata": {},
   "source": [
    "Commençons par créer un réseau très simple qui s'entraine sur MNIST "
   ]
  },
  {
   "cell_type": "code",
   "execution_count": 2,
   "metadata": {},
   "outputs": [
    {
     "name": "stdout",
     "output_type": "stream",
     "text": [
      "epoch 0: loss 37.67017364501953\n",
      "epoch 1: loss 25.84264373779297\n",
      "epoch 2: loss 18.85115623474121\n",
      "epoch 3: loss 15.049560546875\n",
      "epoch 4: loss 12.506705284118652\n",
      "epoch 5: loss 9.645100593566895\n",
      "epoch 6: loss 6.685647010803223\n",
      "epoch 7: loss 4.388463020324707\n",
      "epoch 8: loss 3.16754150390625\n",
      "epoch 9: loss 2.614088296890259\n"
     ]
    },
    {
     "data": {
      "image/png": "[encoded data removed]",
      "text/plain": [
       "<Figure size 640x480 with 1 Axes>"
      ]
     },
     "metadata": {},
     "output_type": "display_data"
    }
   ],
   "source": [
    "import torch\n",
    "import torch.nn as nn\n",
    "import torchvision\n",
    "import torchvision.transforms as transforms\n",
    "import matplotlib.pyplot as plt\n",
    "\n",
    "# Download and load the training data\n",
    "train_dataset = torchvision.datasets.MNIST(root='./data', train=True, transform=transforms.ToTensor(), download=True)\n",
    "train_loader = torch.utils.data.DataLoader(dataset=train_dataset, batch_size=100, shuffle=True)\n",
    "\n",
    "# Download and load the test data\n",
    "test_dataset = torchvision.datasets.MNIST(root='./data', train=False, transform=transforms.ToTensor())\n",
    "\n",
    "\n",
    "# Define the model\n",
    "model = nn.Sequential(\n",
    "    nn.Linear(784, 128),\n",
    "    nn.ReLU(),\n",
    "    nn.Linear(128, 10)\n",
    ")\n",
    "\n",
    "# Define the loss function and optimizer\n",
    "criterion = nn.CrossEntropyLoss()\n",
    "optimizer = torch.optim.Adam(model.parameters(), lr=0.001)\n",
    "\n",
    "\n",
    "# Train the model\n",
    "epochs = 10\n",
    "losses = []\n",
    "for i in range(epochs):\n",
    "    outputs = model.forward(train_dataset.data.view(-1, 784).float())\n",
    "    loss = criterion(outputs, train_dataset.targets)\n",
    "    losses.append(loss.item())\n",
    "    optimizer.zero_grad()\n",
    "    loss.backward()\n",
    "    optimizer.step()\n",
    "    print(f'epoch {i}: loss {loss}')\n",
    "\n",
    "# Plot the loss\n",
    "plt.plot(range(epochs), losses)\n",
    "plt.ylabel('Loss')\n",
    "plt.xlabel('epoch')\n",
    "plt.show()\n"
   ]
  },
  {
   "cell_type": "markdown",
   "metadata": {},
   "source": [
    "Super ça marche ! Mais imaginez que vous voulez entrainer un modèle sur des centaines et des centaines d'epochs. Vous n'allez pas afficher un nombre à chaque fois sur votre pc ! Et puis ça serait cool si on pouvait avoir un graphe en temps réel de notre courbe de loss. \n",
    "Mieux encore, si on lancait notre petit script sur un cluster à distance, il faut qu'on puisse suivre quand même notre loss. \n",
    "\n",
    "C'est là que wandb intervient. Wandb vous permet de suivre vos expériences d'entrainement de manière très facile.\n",
    "\n",
    "Pour se faire, il faut \n",
    "\n",
    "- Créer un compte ici :  https://wandb.ai/site  et se connecter\n",
    "- Installer wandb avec pip (faites pip install wandb sur votre terminal)\n",
    "- Ensuite, après avoir importer wandb faites wandb.login() et mettez votre token, disponible sur votre espace perso."
   ]
  },
  {
   "cell_type": "code",
   "execution_count": 4,
   "metadata": {},
   "outputs": [
    {
     "name": "stderr",
     "output_type": "stream",
     "text": [
      "Failed to detect the name of this notebook, you can set it manually with the WANDB_NOTEBOOK_NAME environment variable to enable code saving.\n",
      "\u001b[34m\u001b[1mwandb\u001b[0m: Currently logged in as: \u001b[33mfotiskapotos\u001b[0m. Use \u001b[1m`wandb login --relogin`\u001b[0m to force relogin\n"
     ]
    },
    {
     "data": {
      "text/plain": [
       "True"
      ]
     },
     "execution_count": 4,
     "metadata": {},
     "output_type": "execute_result"
    }
   ],
   "source": [
    "import wandb\n",
    "\n",
    "wandb.login()"
   ]
  },
  {
   "cell_type": "markdown",
   "metadata": {},
   "source": [
    "Maintenant nous pouvons initialiser notre projet"
   ]
  },
  {
   "cell_type": "code",
   "execution_count": 5,
   "metadata": {},
   "outputs": [
    {
     "data": {
      "text/html": [
       "Tracking run with wandb version 0.15.12"
      ],
      "text/plain": [
       "<IPython.core.display.HTML object>"
      ]
     },
     "metadata": {},
     "output_type": "display_data"
    },
    {
     "data": {
      "text/html": [
       "Run data is saved locally in <code>c:\\Users\\fotis\\Documents\\Automatants\\projets-de-permanence\\TP8_PytorchLighting\\wandb\\run-20231009_134215-g1o8ersm</code>"
      ],
      "text/plain": [
       "<IPython.core.display.HTML object>"
      ]
     },
     "metadata": {},
     "output_type": "display_data"
    },
    {
     "data": {
      "text/html": [
       "Syncing run <strong><a href='https://wandb.ai/fotiskapotos/my-awesome-project/runs/g1o8ersm' target=\"_blank\">snowy-serenity-2</a></strong> to <a href='https://wandb.ai/fotiskapotos/my-awesome-project' target=\"_blank\">Weights & Biases</a> (<a href='https://wandb.me/run' target=\"_blank\">docs</a>)<br/>"
      ],
      "text/plain": [
       "<IPython.core.display.HTML object>"
      ]
     },
     "metadata": {},
     "output_type": "display_data"
    },
    {
     "data": {
      "text/html": [
       " View project at <a href='https://wandb.ai/fotiskapotos/my-awesome-project' target=\"_blank\">https://wandb.ai/fotiskapotos/my-awesome-project</a>"
      ],
      "text/plain": [
       "<IPython.core.display.HTML object>"
      ]
     },
     "metadata": {},
     "output_type": "display_data"
    },
    {
     "data": {
      "text/html": [
       " View run at <a href='https://wandb.ai/fotiskapotos/my-awesome-project/runs/g1o8ersm' target=\"_blank\">https://wandb.ai/fotiskapotos/my-awesome-project/runs/g1o8ersm</a>"
      ],
      "text/plain": [
       "<IPython.core.display.HTML object>"
      ]
     },
     "metadata": {},
     "output_type": "display_data"
    }
   ],
   "source": [
    "run = wandb.init(\n",
    "    # Nom du Projet\n",
    "    project=\"my-awesome-project\",\n",
    "    # Sauvegarde des hyperparamètres\n",
    "    config={\n",
    "        \"learning_rate\": 0.001,\n",
    "        \"epochs\": 10,\n",
    "    })"
   ]
  },
  {
   "cell_type": "markdown",
   "metadata": {},
   "source": [
    "Maintenant la seule chose que nous devons faire c'est utiliser wandb.log() pour entregistrer nos valeurs sur le projet ! \n",
    "Reprennnons notre boucle d'entraînement"
   ]
  },
  {
   "cell_type": "code",
   "execution_count": 6,
   "metadata": {},
   "outputs": [],
   "source": [
    "import torch\n",
    "import torch.nn as nn\n",
    "import torchvision\n",
    "import torchvision.transforms as transforms\n",
    "import matplotlib.pyplot as plt\n",
    "\n",
    "# Download and load the training data\n",
    "train_dataset = torchvision.datasets.MNIST(root='./data', train=True, transform=transforms.ToTensor(), download=True)\n",
    "train_loader = torch.utils.data.DataLoader(dataset=train_dataset, batch_size=100, shuffle=True)\n",
    "\n",
    "# Download and load the test data\n",
    "test_dataset = torchvision.datasets.MNIST(root='./data', train=False, transform=transforms.ToTensor())\n",
    "\n",
    "\n",
    "# Define the model\n",
    "model = nn.Sequential(\n",
    "    nn.Linear(784, 128),\n",
    "    nn.ReLU(),\n",
    "    nn.Linear(128, 10)\n",
    ")\n",
    "\n",
    "# Define the loss function and optimizer\n",
    "criterion = nn.CrossEntropyLoss()\n",
    "optimizer = torch.optim.Adam(model.parameters(), lr=0.001)\n",
    "\n",
    "\n",
    "# Train the model\n",
    "epochs = 10\n",
    "# losses = []\n",
    "for i in range(epochs):\n",
    "    outputs = model.forward(train_dataset.data.view(-1, 784).float())\n",
    "    loss = criterion(outputs, train_dataset.targets)\n",
    "    # losses.append(loss.item())\n",
    "    optimizer.zero_grad()\n",
    "    loss.backward()\n",
    "    optimizer.step()\n",
    "    # print(f'epoch {i}: loss {loss}')\n",
    "    wandb.log({\"loss\": loss})\n",
    "\n",
    "\n"
   ]
  },
  {
   "cell_type": "markdown",
   "metadata": {},
   "source": [
    "Vous pouvez maintenant aller sur le wandb. Vos données sont toutes là ! \n",
    "Des graphes ont été faits pour vous et vos paramètres sont sauvegardés. \n",
    "\n",
    "![Losses](https://raw.githubusercontent.com/Automatants/projets-de-permanence/master/image-hosting/TP8_Wandb/loss.png)"
   ]
  },
  {
   "cell_type": "markdown",
   "metadata": {},
   "source": [
    "Vous pouvez lancer plusieurs expériences et avoir vos données sauvagardés sur le cloud ! \n",
    "\n",
    "Ceci eet bien évidemment qu'une toute petite partie de ce que lightning peut faire. N'hésitez pas à regarder la documentation pour en découvrir plus ! "
   ]
  },
  {
   "cell_type": "markdown",
   "metadata": {},
   "source": [
    "# Pytorch Lightning"
   ]
  },
  {
   "cell_type": "markdown",
   "metadata": {},
   "source": [
    "Ecrire du code c'est bien, écrire du bon code c'est encore mieux ! \n",
    "\n",
    "Pytorch Lightning est une librairie de Python qui permet d'écrire du code pour du Deep Learning avec plus de simplicité.\n",
    "\n",
    "Voyons comment ça marche ! "
   ]
  },
  {
   "cell_type": "code",
   "execution_count": 2,
   "metadata": {},
   "outputs": [],
   "source": [
    "from torch import optim, nn, utils, Tensor\n",
    "from torchvision.datasets import MNIST\n",
    "from torchvision.transforms import ToTensor\n",
    "import lightning.pytorch as pl\n",
    "from pytorch_lightning.loggers import WandbLogger\n",
    "from pytorch_lightning import Trainer\n",
    "import torch.nn.functional as F\n"
   ]
  },
  {
   "cell_type": "code",
   "execution_count": 1,
   "metadata": {},
   "outputs": [
    {
     "ename": "SyntaxError",
     "evalue": "invalid syntax (3715345277.py, line 30)",
     "output_type": "error",
     "traceback": [
      "\u001b[1;36m  Cell \u001b[1;32mIn[1], line 30\u001b[1;36m\u001b[0m\n\u001b[1;33m    return ....\u001b[0m\n\u001b[1;37m               ^\u001b[0m\n\u001b[1;31mSyntaxError\u001b[0m\u001b[1;31m:\u001b[0m invalid syntax\n"
     ]
    }
   ],
   "source": [
    "# On définit le modèle type Lightning\n",
    "\n",
    "# On log sur wandb\n",
    "wandb_logger = WandbLogger()\n",
    "\n",
    "# On crée un modèle de lighting\n",
    "class LitModel(pl.LightningModule):\n",
    "    def __init__(self):\n",
    "        # On définit le modèle dans le init\n",
    "        super().__init__()\n",
    "        self.model = nn.Sequential(\n",
    "            nn.Flatten(),\n",
    "            nn.Linear(784, 128),\n",
    "            nn.ReLU(),\n",
    "            nn.Linear(128, 10)\n",
    "        )\n",
    "\n",
    "    def training_step(self, batch):\n",
    "        # On définit la fonction d'entrainement\n",
    "        # Ici, pas besoin de faire de boucle, ni d'appeller zero_grad, ni optimize.step ni loss.backward\n",
    "        x, y = batch\n",
    "        y_hat = self.model(x)\n",
    "        loss = nn.functional.cross_entropy(y_hat, y)\n",
    "        self.log('train_loss', loss)\n",
    "        return loss\n",
    "    \n",
    "    def validation_step(self, batch, batch_idx):\n",
    "        inputs, target = batch\n",
    "        y_hat = self.model(inputs)\n",
    "        loss = F.cross_entropy(y_hat, target)\n",
    "        self.log(\"val_loss\", loss)\n",
    "\n",
    "    def configure_optimizers(self):\n",
    "        # On définit l'optimizer \n",
    "        # TO DO return adam optimizer\n",
    "        return ....\n",
    "    \n",
    "model = LitModel()\n",
    "trainer = pl.Trainer(limit_train_batches=100, max_epochs=1, logger=wandb_logger) # Vous définissez votre trainer comme vous le souhaitez\n",
    "trainer.fit(model=model, train_dataloaders=train_loader) # Vous lancez l'entrainement"
   ]
  },
  {
   "cell_type": "markdown",
   "metadata": {},
   "source": [
    "Et là, lightning fait plein de choses pour vous ! Déjà vous n'avez pas à vous soucier de l'utilisation de GPU ou pas, lightning le fait pour vous ! \n",
    "Si vous voulez utilisez le gpu il suffit de mettre device = 1 dans le trainer\n",
    "\n",
    "Ensuite, le logging est très facile et vous avez un joli résumé de vos paramètres au début. \n",
    "\n",
    "On vous laisse explorer plus en détail les fonctionalités fantastiques de lightning avec leur documentation"
   ]
  },
  {
   "cell_type": "markdown",
   "metadata": {},
   "source": [
    "# Exercices\n",
    "\n",
    "Pour vos défis, utilisez lighting pour créer vos modèles et wandb pour sauvegarder vos différents loss. Vous allez ainsi créer de modèle de plus en plus compliqués et vous allez decouvrir les fonctionalités plus avancés de lightning."
   ]
  }
 ],
 "metadata": {
  "kernelspec": {
   "display_name": "Python 3",
   "language": "python",
   "name": "python3"
  },
  "language_info": {
   "codemirror_mode": {
    "name": "ipython",
    "version": 3
   },
   "file_extension": ".py",
   "mimetype": "text/x-python",
   "name": "python",
   "nbconvert_exporter": "python",
   "pygments_lexer": "ipython3",
   "version": "3.11.6"
  }
 },
 "nbformat": 4,
 "nbformat_minor": 2
}

{
 "cells": [
  {
   "cell_type": "markdown",
   "metadata": {},
   "source": [
    "Bienvenue ! Le but de ce tuto est de vous montrer comment utiliser efficacement Pytorch pous créer des modèles plus performants et plus ambitieux."
   ]
  },
  {
   "cell_type": "markdown",
   "metadata": {},
   "source": [
    "# Préliminaires\n",
    "\n",
    "Commencons par coder un réseau tout simple sur MNIST."
   ]
  },
  {
   "cell_type": "code",
   "execution_count": null,
   "metadata": {},
   "outputs": [],
   "source": [
    "import torch, torchvision\n",
    "import torch.nn as nn\n",
    "import torch.nn.functional as F\n",
    "import torch.optim as optim\n",
    "import matplotlib.pyplot as plt"
   ]
  },
  {
   "cell_type": "markdown",
   "metadata": {},
   "source": [
    "La première étape c'est evidement de load les données. Dans les TP Automatants cette étape était toujours faite pour vous. Essayons de comprendre ce qui se passe vraiement ! "
   ]
  },
  {
   "cell_type": "code",
   "execution_count": null,
   "metadata": {},
   "outputs": [],
   "source": [
    "dataset = torchvision.datasets.MNIST(root='./data', train=True, download=True)"
   ]
  },
  {
   "cell_type": "markdown",
   "metadata": {},
   "source": [
    "Cette commande va telecharger le dataset MNIST. Pour telecharger d'autres datasets, rendez-vous ici : https://pytorch.org/vision/main/datasets.html. \n",
    "\n",
    "Pytorch dispose d'une assez grande collection des datasets pour vous simplifier la vie.\n",
    "\n",
    "Mais c'est quoi comme object la variable  ```dataset``` ? "
   ]
  },
  {
   "cell_type": "code",
   "execution_count": null,
   "metadata": {},
   "outputs": [],
   "source": [
    "type(dataset)"
   ]
  },
  {
   "cell_type": "markdown",
   "metadata": {},
   "source": [
    "Mhmmm, ça nous aide pas beaucoup tout ça. Qu'est-ce qu'on peut faire? La première étape c'est d'aller voir le site de pytorch : https://pytorch.org/tutorials/beginner/basics/data_tutorial.html"
   ]
  },
  {
   "cell_type": "markdown",
   "metadata": {},
   "source": [
    "Donc, si je comprends bien, dataset est un iterable. Ca veut dire que je peux itérer dans mon dataset dans une boucle for et avoir mes images et mes labels. Et bah c'est super ça ! \n",
    "\n",
    "Par ailleurs, dataset implemente aussi une commande spécifique : len(dataset) me donne sa taille ! "
   ]
  },
  {
   "cell_type": "code",
   "execution_count": null,
   "metadata": {},
   "outputs": [],
   "source": [
    "len(dataset)"
   ]
  },
  {
   "cell_type": "code",
   "execution_count": null,
   "metadata": {},
   "outputs": [],
   "source": [
    "# Essayons d'itérer pour récuperer le premier élément du dataset\n",
    "for entry in dataset:\n",
    "    print(entry)\n",
    "    break"
   ]
  },
  {
   "cell_type": "markdown",
   "metadata": {},
   "source": [
    "On voit donc qu'entry est un tuple, avec une image type PIL en premier argument et un label en second."
   ]
  },
  {
   "cell_type": "markdown",
   "metadata": {},
   "source": [
    "## Exercice 1\n",
    "\n",
    "Utiliser le dataset pour afficher les premières 10 images et leur labels assosiés."
   ]
  },
  {
   "cell_type": "code",
   "execution_count": null,
   "metadata": {},
   "outputs": [],
   "source": []
  },
  {
   "cell_type": "markdown",
   "metadata": {},
   "source": [
    "Vous avez peut être remarqué que les images qu'on récupére ne sont pas forcement dans les format qu'on veut. Ici on récupère des images type PIL et pas des tenseurs. Par ailleurs, les images ne sont pas batchées et ne sont pas normalisées, ce qui n'est pas optimal."
   ]
  },
  {
   "cell_type": "markdown",
   "metadata": {},
   "source": [
    "Pour faire ça on va créer un object transforms qui va gérer tout ça."
   ]
  },
  {
   "cell_type": "code",
   "execution_count": null,
   "metadata": {},
   "outputs": [],
   "source": [
    "transforms = torchvision.transforms.Compose([\n",
    "    torchvision.transforms.ToTensor(),\n",
    "    torchvision.transforms.Normalize((0.1377,), (0.31,))\n",
    "])\n",
    "\n",
    "\n",
    "\n",
    "\n",
    "# Maintenant on va appliquer les transformations.\n",
    "dataset = torchvision.datasets.MNIST(root='./data', train=True, download=True, transform=transforms)\n"
   ]
  },
  {
   "cell_type": "markdown",
   "metadata": {},
   "source": [
    "Maintenant on va utiliser le DataLoader pour charger les données."
   ]
  },
  {
   "cell_type": "code",
   "execution_count": null,
   "metadata": {},
   "outputs": [],
   "source": []
  },
  {
   "cell_type": "code",
   "execution_count": null,
   "metadata": {},
   "outputs": [],
   "source": [
    "for batch in dataloader:\n",
    "    print(batch[0].shape) # images\n",
    "    print(batch[1].shape) # labels \n",
    "    break"
   ]
  },
  {
   "cell_type": "markdown",
   "metadata": {},
   "source": [
    "Maintenant on peut juste itérer sur notre dataloader et récupérer les batch d'images\n"
   ]
  },
  {
   "cell_type": "markdown",
   "metadata": {},
   "source": [
    "## Exercice 2 \n",
    "Sur un batch de 16, affichez les images avec leur labels\n"
   ]
  },
  {
   "cell_type": "code",
   "execution_count": null,
   "metadata": {},
   "outputs": [],
   "source": []
  },
  {
   "cell_type": "markdown",
   "metadata": {},
   "source": [
    "# Définition du modèle"
   ]
  },
  {
   "cell_type": "code",
   "execution_count": null,
   "metadata": {},
   "outputs": [],
   "source": [
    "# Maintenant on va créer un réseau de neurones simple pour faire de la classification\n",
    "\n",
    "model = nn.Sequential(\n",
    "    nn.Flatten(),\n",
    "    nn.Linear(784, 128),\n",
    "    nn.ReLU(),\n",
    "    nn.Linear(128, 10)\n",
    ")\n",
    "\n",
    "optimize = optim.Adam(model.parameters(), lr=0.003)\n",
    "criterion = nn.CrossEntropyLoss()\n",
    "\n",
    "epochs = 1 #On va juste train sur une epoches pour le moment\n",
    "for i , (images, labels) in enumerate(dataloader): # enumerate permet de récupérer l'index de l'itération\n",
    "\n",
    "    outputs = model(images)\n",
    "\n",
    "    loss = criterion(outputs, labels)\n",
    "    optimize.zero_grad()\n",
    "    loss.backward()\n",
    "    optimize.step()\n",
    "    if i % 100 == 0:\n",
    "        print(loss.item())"
   ]
  },
  {
   "cell_type": "markdown",
   "metadata": {},
   "source": [
    "Super ça marche ! On va complexifier un peu le modèle maintenant."
   ]
  },
  {
   "cell_type": "markdown",
   "metadata": {},
   "source": [
    "## Utilisation des classes"
   ]
  },
  {
   "cell_type": "markdown",
   "metadata": {},
   "source": [
    "Les classes sont couramment utilisées pour créer des modèles en PyTorch. Les classes permettent de définir des modèles de manière modulaire, ce qui les rend plus faciles à comprendre, à personnaliser et à réutiliser. Voici comment vous pouvez utiliser des classes pour créer des modèles en PyTorch :"
   ]
  },
  {
   "cell_type": "markdown",
   "metadata": {},
   "source": [
    "Commencons par créer une classe de modèle personnalisée qui hérite de `nn.Module`.\n",
    "\n",
    "L'héritage de classe est un concept fondamental de la programmation orientée objet (POO) qui permet à une classe (dans ce cas `MonModele`) d'hériter des attributs et des méthodes d'une autre classe (dans ce cas `nn.Module`). Cela signifie que `MonModele` a accès aux fonctionnalités de `nn.Module` et peut également ajouter ses propres attributs et méthodes spécifiques.\n",
    "\n",
    "Dans le contexte du Deep Learning en utilisant PyTorch, cette utilisation de l'héritage de classe est essentielle car `nn.Module` est une classe de base qui fournit des fonctionnalités cruciales pour la création de modèles, notamment :\n",
    "\n",
    " - La gestion automatique des paramètres\n",
    "\n",
    " - La méthode forward : Vous devez définir la méthode forward dans votre classe dérivée. Cette méthode spécifie comment les données passent à travers votre modèle. Ainsi, en faisant `model(input)` vous allez faire `model.forward(input)`.\n"
   ]
  },
  {
   "cell_type": "code",
   "execution_count": null,
   "metadata": {},
   "outputs": [],
   "source": [
    "class MonModele(nn.Module):\n",
    "    def __init__(self, input_size, hidden_size, output_size):\n",
    "        super(MonModele, self).__init__() # Commande d'héritage de propriétés de la classe nn.Module\n",
    "\n",
    "        # Définir les couches du modèle\n",
    "        self.couche_entree = nn.Linear(input_size, hidden_size)\n",
    "        self.couche_cachee = nn.Linear(hidden_size, hidden_size)\n",
    "        self.couche_sortie = nn.Linear(hidden_size, output_size)\n",
    "        self.relu = nn.ReLU()\n",
    "\n",
    "    def forward(self, x):\n",
    "        # Définir la passe avant (forward pass) du modèle\n",
    "        x = self.couche_entree(x)\n",
    "        x = self.relu(x)\n",
    "        x = self.couche_cachee(x)\n",
    "        x = self.relu(x)\n",
    "        x = self.couche_sortie(x)\n",
    "        return x"
   ]
  },
  {
   "cell_type": "markdown",
   "metadata": {},
   "source": [
    " - Dans le constructeur `__init__`, vous définissez les couches du modèle en utilisant les modules PyTorch tels que `nn.Linear`, `nn.Conv2d`, etc. Vous pouvez également définir d'autres paramètres du modèle dans ce constructeur.\n",
    "\n",
    " - Dans la méthode `forward`, vous spécifiez comment les données passent à travers le modèle. Vous décrivez l'enchaînement des couches et des opérations pour effectuer une propagation avant (antérograde).\n",
    "\n",
    "Créez une instance de votre modèle en fournissant les dimensions d'entrée, de sortie et d'autres paramètres requis :"
   ]
  },
  {
   "cell_type": "code",
   "execution_count": null,
   "metadata": {},
   "outputs": [],
   "source": [
    "input_size = 64\n",
    "hidden_size = 128\n",
    "output_size = 10\n",
    "mon_modele = MonModele(input_size, hidden_size, output_size)"
   ]
  },
  {
   "cell_type": "markdown",
   "metadata": {},
   "source": [
    "Pour effectuer une prédiction avec votre modèle, appelez la méthode forward :"
   ]
  },
  {
   "cell_type": "code",
   "execution_count": null,
   "metadata": {},
   "outputs": [],
   "source": [
    "input_data = torch.randn(32, input_size)  # Exemple de données d'entrée\n",
    "output = mon_modele(input_data)\n"
   ]
  },
  {
   "cell_type": "markdown",
   "metadata": {},
   "source": [
    "Pour entraîner le modèle, vous devez définir une fonction de perte (loss function) et un optimiseur, puis effectuer une rétropropagation pour ajuster les poids du modèle. Exactement comme on a fait avant ! \n",
    "\n",
    "Vous pouvez ensuite sauvegarder et charger le modèle en utilisant les méthodes de sérialisation de PyTorch, par exemple, torch.save() et torch.load().\n",
    "\n",
    "L'utilisation de classes pour définir des modèles en PyTorch rend le code plus organisé, modulaire et plus facile à gérer. Vous pouvez également hériter de modèles pré-entraînés et personnaliser leurs architectures pour des tâches spécifiques en utilisant cette approche."
   ]
  },
  {
   "cell_type": "markdown",
   "metadata": {},
   "source": [
    "## Exercice 3 \n",
    "A vous de jouer ! Coder un modèle simple qui s'entraine à classifier les chiffres sur MNIST"
   ]
  },
  {
   "cell_type": "code",
   "execution_count": null,
   "metadata": {},
   "outputs": [],
   "source": []
  }
 ],
 "metadata": {
  "kernelspec": {
   "display_name": "bootcamp",
   "language": "python",
   "name": "python3"
  },
  "language_info": {
   "codemirror_mode": {
    "name": "ipython",
    "version": 3
   },
   "file_extension": ".py",
   "mimetype": "text/x-python",
   "name": "python",
   "nbconvert_exporter": "python",
   "pygments_lexer": "ipython3",
   "version": "3.9.6"
  },
  "orig_nbformat": 4
 },
 "nbformat": 4,
 "nbformat_minor": 2
}

{
 "cells": [
  {
   "cell_type": "markdown",
   "metadata": {},
   "source": [
    "# TP Technique\n",
    "\n",
    "Dans ce notebook, nous allons explorer plusieurs techniques avancées pour l'entraînement de modèles :\n",
    "- PyTorch Lightning pour structurer notre code d'entraînement\n",
    "- Weights & Biases (wandb) pour le suivi des expériences\n",
    "- Data augmentation pour améliorer la robustesse\n",
    "- Transfer learning pour tirer parti des modèles pré-entraînés\n"
   ]
  },
  {
   "cell_type": "markdown",
   "metadata": {},
   "source": [
    "# Données\n",
    "\n",
    "On va télécharger les données MNIST et les charger dans un DataLoader.\n"
   ]
  },
  {
   "cell_type": "code",
   "execution_count": null,
   "metadata": {},
   "outputs": [],
   "source": [
    "from torchvision import datasets, transforms\n",
    "from torch.utils.data import DataLoader, Dataset"
   ]
  },
  {
   "cell_type": "markdown",
   "metadata": {},
   "source": [
    "## Data Augmentation"
   ]
  },
  {
   "cell_type": "code",
   "execution_count": null,
   "metadata": {},
   "outputs": [],
   "source": [
    "transform_augmented = transforms.Compose([\n",
    "    transforms.ToTensor(),\n",
    "    transforms.RandomAffine(degrees=10, translate=(0.1, 0.1), scale=(0.9, 1.1)),\n",
    "    transforms.RandomRotation(10),\n",
    "    transforms.RandomPerspective(distortion_scale=0.2, p=0.5),\n",
    "    transforms.RandomErasing(p=0.1),\n",
    "])\n",
    "\n",
    "train_dataset_augmented = datasets.MNIST(\n",
    "    root='./data', \n",
    "    train=True,\n",
    "    download=True,\n",
    "    transform=transform_augmented\n",
    ")"
   ]
  },
  {
   "cell_type": "markdown",
   "metadata": {},
   "source": [
    "## Data Loading"
   ]
  },
  {
   "cell_type": "code",
   "execution_count": null,
   "metadata": {},
   "outputs": [],
   "source": [
    "import os\n",
    "class MNISTData(Dataset):\n",
    "    def __init__(self, dataset_dir = './data', train=True):\n",
    "        self.dataset_dir = dataset_dir\n",
    "        self.len = len(os.listdir(self.dataset_dir))\n",
    "        self.train = train\n",
    "    def __len__(self):\n",
    "        return self.len\n",
    "        \n",
    "    \n",
    "    def __getitem__(self, index):\n",
    "        image_path = os.path.join(self.dataset_dir, 'train' if self.train else 'test', f\"{index}.png\")\n",
    "        image = Image.open(image_path)\n",
    "        return image\n",
    "\n",
    "train_loader = DataLoader(MNISTData(dataset_dir='./data/train'), batch_size=64, shuffle=True)\n",
    "test_loader = DataLoader(MNISTData(dataset_dir='./data/test'), batch_size=64, shuffle=True)"
   ]
  },
  {
   "cell_type": "markdown",
   "metadata": {},
   "source": [
    "# Pytorch Lightning"
   ]
  },
  {
   "cell_type": "code",
   "execution_count": null,
   "metadata": {},
   "outputs": [],
   "source": [
    "from torch import optim, nn, utils\n",
    "import pytorch_lightning as pl\n",
    "from pytorch_lightning.loggers import WandbLogger\n",
    "import torch.nn.functional as F\n",
    "import wandb\n",
    "\n",
    "wandb.login()"
   ]
  },
  {
   "cell_type": "markdown",
   "metadata": {},
   "source": [
    "## Définition du modèle"
   ]
  },
  {
   "cell_type": "code",
   "execution_count": null,
   "metadata": {},
   "outputs": [],
   "source": [
    "class MNISTModel(pl.LightningModule):\n",
    "    def __init__(self):\n",
    "        super(MNISTModel, self).__init__()\n",
    "        self.fc1 = nn.Linear(28*28, 128)\n",
    "        self.fc2 = nn.Linear(128, 10)\n",
    "\n",
    "    def forward(self, x):\n",
    "        x = x.view(x.size(0), -1)\n",
    "        x = F.relu(self.fc1(x))\n",
    "        x = self.fc2(x)\n",
    "        return x\n",
    "    \n",
    "    def training_step(self, batch, batch_idx):\n",
    "        x, y = batch\n",
    "        y_hat = self(x)\n",
    "        loss = F.cross_entropy(y_hat, y)\n",
    "        self.log('train_loss', loss)\n",
    "        self.log('train_acc', (y_hat.argmax(dim=1) == y).float().mean())\n",
    "        return loss\n",
    "    \n",
    "    def validation_step(self, batch, batch_idx):\n",
    "        x, y = batch\n",
    "        y_hat = self(x)\n",
    "        loss = F.cross_entropy(y_hat, y)\n",
    "        self.log('val_loss', loss)\n",
    "        self.log('val_acc', (y_hat.argmax(dim=1) == y).float().mean())\n",
    "        return loss\n",
    "    \n",
    "    def test_step(self, batch, batch_idx):\n",
    "        x, y = batch\n",
    "        y_hat = self(x)\n",
    "        loss = F.cross_entropy(y_hat, y)\n",
    "        self.log('test_loss', loss)\n",
    "        self.log('test_acc', (y_hat.argmax(dim=1) == y).float().mean())\n",
    "        return loss\n",
    "    \n",
    "    def configure_optimizers(self):\n",
    "        return optim.Adam(self.parameters(), lr=0.001)\n",
    "    "
   ]
  },
  {
   "cell_type": "markdown",
   "metadata": {},
   "source": [
    "## Entrainement"
   ]
  },
  {
   "cell_type": "code",
   "execution_count": null,
   "metadata": {},
   "outputs": [],
   "source": [
    "trainer = pl.Trainer(\n",
    "    max_epochs=10, \n",
    "    gpus=1, \n",
    "    logger=WandbLogger(project='tp_technique'), \n",
    "    callbacks=[\n",
    "        EarlyStopping(monitor='val_loss', patience=3),\n",
    "        ModelCheckpoint(monitor='val_loss', mode='min', save_top_k=1, filename='best_model')\n",
    "    ]\n",
    ")\n",
    "\n",
    "model = MNISTModel()\n",
    "trainer.fit(model, train_loader, test_loader)\n",
    "\n",
    "## Evaluation\n",
    "trainer.test(model, test_loader)"
   ]
  }
 ],
 "metadata": {
  "kernelspec": {
   "display_name": "Python 3",
   "language": "python",
   "name": "python3"
  },
  "language_info": {
   "name": "python",
   "version": "3.10.13"
  }
 },
 "nbformat": 4,
 "nbformat_minor": 2
}
